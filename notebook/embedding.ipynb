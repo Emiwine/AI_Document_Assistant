{
 "cells": [
  {
   "cell_type": "code",
   "execution_count": 11,
   "id": "4e6972cc",
   "metadata": {},
   "outputs": [],
   "source": [
    "# Update your embedding script too\n",
    "from langchain_huggingface import HuggingFaceEmbeddings\n",
    "from langchain_community.vectorstores import FAISS\n",
    "\n",
    "# Rest of your embedding code remains the same\n",
    "embeddings = HuggingFaceEmbeddings(model_name=\"all-MiniLM-L6-v2\")\n",
    "vectorstore = FAISS.from_texts(\n",
    "    texts=chunks,\n",
    "    embedding=embeddings,\n",
    "    metadatas=[{\"chunk_id\": i} for i in range(len(chunks))]\n",
    ")\n"
   ]
  },
  {
   "cell_type": "code",
   "execution_count": null,
   "id": "a9eea8a7",
   "metadata": {},
   "outputs": [],
   "source": [
    "\n",
    "# with open('D:\\Rag_CChatbot\\chunks\\cleaned_chunks.txt', 'r', encoding='utf-8') as f:\n",
    "#     content = f.read()   ##  read the previous chunks \n",
    "\n",
    "# chunks = [] \n",
    "# for section in content.split('='*50):            ### basically i created this for split the chunks by ====== into 50 times \n",
    "#     if 'CHUNK' in section and ':' in section:\n",
    "#         chunk_text = section.split(':', 1)[1].strip()\n",
    "#         if chunk_text:\n",
    "#             chunks.append(chunk_text)\n"
   ]
  },
  {
   "cell_type": "code",
   "execution_count": null,
   "id": "7bccea76",
   "metadata": {},
   "outputs": [
    {
     "name": "stdout",
     "output_type": "stream",
     "text": [
      "Created 84 embeddings\n",
      "Vector store saved to: D:\\Rag_CChatbot\\Vectordb\\Faiss_index\n",
      "Test retrieval returned 3 documents\n"
     ]
    }
   ],
   "source": [
    "# # Create vector store\n",
    "# vectorstore = FAISS.from_texts(\n",
    "#     texts=chunks,\n",
    "#     embedding=embeddings,\n",
    "#     metadatas=[{\"chunk_id\": i} for i in range(len(chunks))]\n",
    "# )\n",
    "# # \n",
    "# # Save to vectordb folder\n",
    "# vectordb_path = 'D:\\Rag_CChatbot\\Vectordb\\Faiss_index'\n",
    "# os.makedirs(os.path.dirname(vectordb_path), exist_ok=True)\n",
    "# vectorstore.save_local(vectordb_path)\n",
    "\n",
    "\n",
    "# print(f\"Created {len(chunks)} embeddings\")\n",
    "# print(f\"Vector store saved to: {vectordb_path}\")\n",
    "# print(f\"Test retrieval returned {len(test_docs)} documents\")\n"
   ]
  },
  {
   "cell_type": "code",
   "execution_count": null,
   "id": "1896eda4",
   "metadata": {},
   "outputs": [
    {
     "data": {
      "text/plain": [
       "'payment for an item sold using our Services, you must accept and comply with the Payments Terms of Use, including the requirements to provide to eBay Payment Entities information about you, your business, and the financial account you will use to receive payments. If you are a buyer: You may pay for items and services using the payment methods that the eBay Payment Entities make available, and the eBay Payment Entities will manage settlement of the payment to sellers. The eBay Payment Entities will collect the transaction amount on behalf of the seller by charging your selected payment method. Accordingly, payments received by the eBay Payment Entity from you will satisfy your obligations to pay the seller in the amount of payments received; In certain instances, your transaction may be declined, frozen, or held for any reason including for suspected fraud, Anti-Money Laundering (AML) compliance, compliance with economic or trade sanctions, in connection with eBays internal risk'"
      ]
     },
     "execution_count": 7,
     "metadata": {},
     "output_type": "execute_result"
    }
   ],
   "source": [
    "# ## testing query \n",
    "# query  = \"What happens if you don't pay for items you buy?\"\n",
    "# result = vectorstore.similarity_search(query)\n",
    "# result[0].page_content\n"
   ]
  },
  {
   "cell_type": "code",
   "execution_count": null,
   "id": "b9723036",
   "metadata": {},
   "outputs": [],
   "source": []
  },
  {
   "cell_type": "code",
   "execution_count": null,
   "id": "e00ec3ed",
   "metadata": {},
   "outputs": [
    {
     "name": "stdout",
     "output_type": "stream",
     "text": [
      "Testing generator:\n",
      "Response: According to the context, Python is used for **web development and data science**. \n",
      "\n"
     ]
    }
   ],
   "source": []
  },
  {
   "cell_type": "code",
   "execution_count": null,
   "id": "ceb9bf8b",
   "metadata": {},
   "outputs": [],
   "source": []
  }
 ],
 "metadata": {
  "kernelspec": {
   "display_name": "Python 3",
   "language": "python",
   "name": "python3"
  },
  "language_info": {
   "codemirror_mode": {
    "name": "ipython",
    "version": 3
   },
   "file_extension": ".py",
   "mimetype": "text/x-python",
   "name": "python",
   "nbconvert_exporter": "python",
   "pygments_lexer": "ipython3",
   "version": "3.11.0"
  }
 },
 "nbformat": 4,
 "nbformat_minor": 5
}
