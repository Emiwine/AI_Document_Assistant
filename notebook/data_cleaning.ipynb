{
 "cells": [
  {
   "cell_type": "code",
   "execution_count": 33,
   "id": "08d35582",
   "metadata": {},
   "outputs": [
    {
     "name": "stderr",
     "output_type": "stream",
     "text": [
      "[nltk_data] Downloading package punkt to\n",
      "[nltk_data]     C:\\Users\\77piy\\AppData\\Roaming\\nltk_data...\n",
      "[nltk_data]   Package punkt is already up-to-date!\n"
     ]
    }
   ],
   "source": [
    "import re\n",
    "import os\n",
    "import pdfplumber\n",
    "import nltk\n",
    "from nltk.tokenize import sent_tokenize\n",
    "\n",
    "nltk.download('punkt')\n",
    "\n",
    "pdf_path = 'D:\\Rag_CChatbot\\data\\AI_Training_Document.pdf'\n",
    "\n",
    "all_text = \"\"                   # extract the text from the pdf\n",
    "with pdfplumber.open(pdf_path) as pdf:\n",
    "    for page in pdf.pages:\n",
    "        text = page.extract_text()\n",
    "        if text:\n",
    "            all_text += text + \"\\n\"\n",
    "\n",
    "\n",
    "\n",
    "cleaned_text = re.sub(r'\\s+', ' ', all_text)\n",
    "cleaned_text = re.sub(r'Page \\d+.*?\\n', '', cleaned_text)\n",
    "cleaned_text = re.sub(r'\\d+\\s*$', '', cleaned_text, flags=re.MULTILINE)\n",
    "cleaned_text = re.sub(r'[^\\w\\s.,;:!?()-]', '', cleaned_text)\n",
    "cleaned_text = re.sub(r'[\"\"]', '\"', cleaned_text)\n",
    "\n",
    "\n",
    "cleaned_text = cleaned_text.replace(''', \"'\")\n",
    "cleaned_text = cleaned_text.replace(''', \"'\")\n",
    "\n",
    "cleaned_text = re.sub(r'\\s+', ' ', cleaned_text).strip()\n",
    "\n"
   ]
  },
  {
   "cell_type": "code",
   "execution_count": 34,
   "id": "0aed51b3",
   "metadata": {},
   "outputs": [
    {
     "name": "stdout",
     "output_type": "stream",
     "text": [
      "Cleaned text extracted and saved to: D:\\Rag_CChatbot\\data\\cleaned_AI_Training_Document.txt\n"
     ]
    }
   ],
   "source": [
    "# Output path\n",
    "output_path = 'D:\\Rag_CChatbot\\data\\cleaned_AI_Training_Document.txt'\n",
    "os.makedirs(os.path.dirname(output_path), exist_ok=True)\n",
    "\n",
    "with open(output_path, 'w', encoding='utf-8') as f:\n",
    "    f.write(cleaned_text)\n",
    "\n",
    "print(f\"Cleaned text extracted and saved to: {output_path}\")"
   ]
  },
  {
   "cell_type": "markdown",
   "id": "63923e88",
   "metadata": {},
   "source": [
    "### Splits into chunks "
   ]
  },
  {
   "cell_type": "code",
   "execution_count": null,
   "id": "4347c1cb",
   "metadata": {},
   "outputs": [
    {
     "name": "stdout",
     "output_type": "stream",
     "text": [
      "Total chunks created: 84\n",
      "Average chunk length: 161.3 words\n",
      "Chunks saved to: D:\\Rag_CChatbot\\chunks\\cleaned_chunks.txt\n"
     ]
    }
   ],
   "source": [
    "import os\n",
    "from langchain.text_splitter import RecursiveCharacterTextSplitter\n",
    "text_splitter = RecursiveCharacterTextSplitter(   \n",
    "    chunk_size=1000                        #approx 200-250 words \n",
    "    chunk_overlap=200,      \n",
    "    length_function=len,\n",
    "    separators=[\"\\n\\n\", \"\\n\", \" \", \"\"]  \n",
    ")\n"
   ]
  },
  {
   "cell_type": "code",
   "execution_count": null,
   "id": "74433960",
   "metadata": {},
   "outputs": [
    {
     "name": "stdout",
     "output_type": "stream",
     "text": [
      "Total chunks created: 84\n",
      "Average chunk length: 161.3 words\n"
     ]
    }
   ],
   "source": [
    "with open('D:\\Rag_CChatbot\\data\\cleaned_AI_Training_Document.txt', 'r', encoding='utf-8') as f:\n",
    "    cleaned_text = f.read()     ## this is basically open and read previously cleaned text \n",
    "    \n",
    "    \n",
    "text_chunks = text_splitter.split_text(cleaned_text)\n",
    "\n",
    "print(f\"Total chunks created: {len(text_chunks)}\")\n",
    "print(f\"Average chunk length: {sum(len(chunk.split()) for chunk in text_chunks) / len(text_chunks):.1f} words\")\n"
   ]
  },
  {
   "cell_type": "code",
   "execution_count": null,
   "id": "f0c7704d",
   "metadata": {},
   "outputs": [
    {
     "name": "stdout",
     "output_type": "stream",
     "text": [
      "Chunks saved to: D:\\Rag_CChatbot\\chunks\\cleaned_chunks.txt\n"
     ]
    }
   ],
   "source": [
    "## save the chunks in the cleaned chunks file \n",
    "\n",
    "chunks_output_path = 'D:\\Rag_CChatbot\\chunks\\cleaned_chunks.txt'\n",
    "os.makedirs(os.path.dirname(chunks_output_path), exist_ok=True)\n",
    "\n",
    "with open(chunks_output_path, 'w', encoding='utf-8') as f:\n",
    "    for i, chunk in enumerate(text_chunks):\n",
    "        f.write(f\"CHUNK {i+1}:\\n{chunk}\\n\\n{'='*50}\\n\\n\")       #3 use this for splits in to == *50 times \n",
    "    \n",
    "print(f\"Chunks saved to: {chunks_output_path}\")"
   ]
  },
  {
   "cell_type": "code",
   "execution_count": null,
   "id": "794489d4",
   "metadata": {},
   "outputs": [],
   "source": []
  }
 ],
 "metadata": {
  "kernelspec": {
   "display_name": "Python 3",
   "language": "python",
   "name": "python3"
  },
  "language_info": {
   "codemirror_mode": {
    "name": "ipython",
    "version": 3
   },
   "file_extension": ".py",
   "mimetype": "text/x-python",
   "name": "python",
   "nbconvert_exporter": "python",
   "pygments_lexer": "ipython3",
   "version": "3.11.0"
  }
 },
 "nbformat": 4,
 "nbformat_minor": 5
}
